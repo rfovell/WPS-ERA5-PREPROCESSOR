{
 "cells": [
  {
   "cell_type": "code",
   "execution_count": 1,
   "id": "06e8be0a-1775-4bea-8fd7-a05eaf5b2bf9",
   "metadata": {},
   "outputs": [
    {
     "name": "stdout",
     "output_type": "stream",
     "text": [
      "env: PROJ_DATA=/network/rit/lab/snowclus/miniforge3/envs/jan24_env/share/proj\n",
      " ready to go...\n"
     ]
    }
   ],
   "source": [
    "###################################################################################################\n",
    "# WPS_ERA5_PREPROCESSOR.ipynb\n",
    "# ATM 419/563 Fall 2024\n",
    "# 5 December 2024 Robert Fovell (rfovell@albany.edu) \n",
    "#\n",
    "#\n",
    "# Notebook to process ERA5 reanalysis fields in NetCDF format from NCAR RDA into intermediate format\n",
    "# based on Luke Madaus' wrf-preproc-intermediate-writer, with substantial modifications for ERA5\n",
    "# [https://gitlab.com/jupiter-opensource/wrf-preproc-intermediate-writer]\n",
    "#\n",
    "# No warranty, no promises, no support guarantee\n",
    "###################################################################################################\n",
    "\n",
    "'''\n",
    "\n",
    "This is tested on ERA5 NetCDF files from NCAR RDA.  Will need (substantial) modifications to work with other sources.\n",
    "Geographic subsetting does not currently work.  The routine process_soil_levels is not being used in this version.\n",
    "\n",
    "Files needed besides this notebook:\n",
    "• ERA5_RH2m_computer.ipynb       - to create 2 m RH\n",
    "• era5_SOILHGT.nc (ERA5 terrain) - needed for proper WRF initialization\n",
    "\n",
    "The processor software location is defined below, defaulting to /network/rit/lab/atm419lab/SOFTWARE/ERA5_PREPROCESSOR/\n",
    "The contents of that directory are\n",
    "• wps_formatter_ERA5_RGF.py [modified from Madaus' code]\n",
    "• grib_codes.df.pkl         [from Luke Madaus]\n",
    "• __init__.py (which links to wps_formatter_ERA5_RGF.py\n",
    "\n",
    "----------------------------------------------------------------------------------------------\n",
    "BEFORE RUNNING THIS NOTEBOOK:\n",
    "----------------------------------------------------------------------------------------------\n",
    "\n",
    "(1) Download ERA5 files from NCAR RDA in NetCDF format.\n",
    "  Isobaric level fields needed: z, t, u, v, r.  (q is not needed)\n",
    "  Surface fields needed: msl, sp, 2t, sstk, skt, 10u, 10v, 2d\n",
    "  Subsurface fields needed: stl1, stl2, stl3, stl4, swvl1, swvl2, swvl3, swvl4\n",
    "  \n",
    "(2) For multiple day runs, combine isobaric level files by field.  This can take a lot of time.\n",
    "\n",
    "ncrcat e5.oper.an.pl.128_129_z* era5_z.nc\n",
    "ncrcat e5.oper.an.pl.128_130_t* era5_t.nc\n",
    "ncrcat e5.oper.an.pl.128_131_u* era5_u.nc\n",
    "ncrcat e5.oper.an.pl.128_132_v* era5_v.nc\n",
    "ncrcat e5.oper.an.pl.128_157_r* era5_r.nc\n",
    "\n",
    "(3) The surface fields each encompass an entire month.  For runs crossing months, you may need to \n",
    " combine surface files or run this notebook and do the following steps more than once\n",
    "\n",
    "(4) ERA5 does not supply 2 m RH.  Not having 2 m RH can also cause real.exe to ignore U10 and V10 information,\n",
    " changing fields near the surface, because it forces use_surface to False \n",
    "    + Run notebook ERA5_RH2m_computer.ipynb to read in 2t, 2d files, computing 2m RH via MetPy\n",
    "    + This generates a new NetCDF file called output_file.nc\n",
    "    + Then change name of variable in output file:  ncrename -v VAR_2D,VAR_2RH output_file.nc\n",
    "    + Change name of output_file.nc if needed:      mv output_file.nc era5_rh2m_aug2019.nc\n",
    "    \n",
    "(5) Have the invariant field SOILHGT available and expressed in meters (not surface geopotential in m2/s2).\n",
    " The file /network/rit/lab/atm419lab/DATA/ERA5/era5_SOILHGT.nc is ready for use\n",
    " \n",
    "(6) Modify Cell #2 for locations, names of files\n",
    "\n",
    "(7) Also in Cell #2, point to location of the grib_codes.df.pkl file\n",
    "\n",
    "(8) In Cell #3, set the time range.  Example:\n",
    "'time_range' : (datetime(2019,8,26,12), datetime(2019,8,27,0)),\n",
    "\n",
    "(9) In Cell #3, set the time interval (interval_seconds, expressed in hours).  Example:\n",
    "'time_freq' : '3h',\n",
    "\n",
    "(10) In the metgrid step, do NOT include the ERA5 invariant file that you would use with GRIB data.\n",
    "This appears to corrupt the soils information.\n",
    "\n",
    "        \n",
    "'''\n",
    "%env PROJ_DATA=/network/rit/lab/snowclus/miniforge3/envs/jan24_env/share/proj\n",
    "\n",
    "# -------------------------------------------------------------------------------------------------------\n",
    "# WPS Formatter\n",
    "# declare where the modified wps_formatter code can be found:\n",
    "import sys\n",
    "sys.path.append(\"/network/rit/lab/atm419lab/SOFTWARE/ERA5_PREPROCESSOR/\")  # Adds the directory to Python's search path\n",
    "import wps_formatter_ERA5_RGF\n",
    "from wps_formatter_ERA5_RGF import WRFInputFormatter\n",
    "# -------------------------------------------------------------------------------------------------------\n",
    "\n",
    "from datetime import datetime,timedelta\n",
    "import pandas as pd\n",
    "import xarray as xr\n",
    "from netCDF4 import Dataset\n",
    "import pickle\n",
    "\n",
    "print(\" ready to go...\")"
   ]
  },
  {
   "cell_type": "code",
   "execution_count": 2,
   "id": "ec15ec33-8774-4a21-841f-f9dbefa86a21",
   "metadata": {},
   "outputs": [
    {
     "name": "stdout",
     "output_type": "stream",
     "text": [
      " ready...\n"
     ]
    }
   ],
   "source": [
    "# These paths point to which netcdf file that contain each variable\n",
    "variable_paths = {\n",
    "    \n",
    "    # Invariant\n",
    "    'SOILHGT' : '/network/rit/lab/atm419lab/DATA/ERA5/era5_SOILHGT.nc',\n",
    "    \n",
    "    # Surface variables. VAR_2RH file created with ERA5_RH2m_computer.ipynb\n",
    "    'MSL' : '/network/rit/lab/atm419lab/DATA/ERA5_AUG2019_NETCDF/e5.oper.an.sfc.128_151_msl.ll025sc.2019080100_2019083123.nc',\n",
    "    'SP' : '/network/rit/lab/atm419lab/DATA/ERA5_AUG2019_NETCDF/e5.oper.an.sfc.128_134_sp.ll025sc.2019080100_2019083123.nc',\n",
    "    'VAR_2T' : '/network/rit/lab/atm419lab/DATA/ERA5_AUG2019_NETCDF/e5.oper.an.sfc.128_167_2t.ll025sc.2019080100_2019083123.nc',\n",
    "    'SSTK' : '/network/rit/lab/atm419lab/DATA/ERA5_AUG2019_NETCDF/e5.oper.an.sfc.128_034_sstk.ll025sc.2019080100_2019083123.nc',\n",
    "    'SKT' : '/network/rit/lab/atm419lab/DATA/ERA5_AUG2019_NETCDF/e5.oper.an.sfc.128_235_skt.ll025sc.2019080100_2019083123.nc',\n",
    "    'VAR_10U' : '/network/rit/lab/atm419lab/DATA/ERA5_AUG2019_NETCDF/e5.oper.an.sfc.128_165_10u.ll025sc.2019080100_2019083123.nc',\n",
    "    'VAR_10V' : '/network/rit/lab/atm419lab/DATA/ERA5_AUG2019_NETCDF/e5.oper.an.sfc.128_166_10v.ll025sc.2019080100_2019083123.nc',\n",
    "    'VAR_2RH' : '/network/rit/lab/atm419lab/DATA/ERA5_AUG2019_NETCDF/era5_rh2m_aug2019.nc',\n",
    "    \n",
    "    # Upper air variables. Z is geopotential, not geopotential height\n",
    "    'T' : '/network/rit/lab/atm419lab/DATA/ERA5_AUG2019_NETCDF/era5_t.nc',\n",
    "    'R' : '/network/rit/lab/atm419lab/DATA/ERA5_AUG2019_NETCDF/era5_r.nc',\n",
    "    'U' : '/network/rit/lab/atm419lab/DATA/ERA5_AUG2019_NETCDF/era5_u.nc',\n",
    "    'V' : '/network/rit/lab/atm419lab/DATA/ERA5_AUG2019_NETCDF/era5_v.nc',\n",
    "    'Z' : '/network/rit/lab/atm419lab/DATA/ERA5_AUG2019_NETCDF/era5_z.nc',\n",
    "   \n",
    "    # Soil variables\n",
    "    'STL1'   : '/network/rit/lab/atm419lab/DATA/ERA5_AUG2019_NETCDF/e5.oper.an.sfc.128_139_stl1.ll025sc.2019080100_2019083123.nc',\n",
    "    'STL2'   : '/network/rit/lab/atm419lab/DATA/ERA5_AUG2019_NETCDF/e5.oper.an.sfc.128_170_stl2.ll025sc.2019080100_2019083123.nc',\n",
    "    'STL3'   : '/network/rit/lab/atm419lab/DATA/ERA5_AUG2019_NETCDF/e5.oper.an.sfc.128_183_stl3.ll025sc.2019080100_2019083123.nc',\n",
    "    'STL4'   : '/network/rit/lab/atm419lab/DATA/ERA5_AUG2019_NETCDF/e5.oper.an.sfc.128_236_stl4.ll025sc.2019080100_2019083123.nc',\n",
    "    'SWVL1'   : '/network/rit/lab/atm419lab/DATA/ERA5_AUG2019_NETCDF/e5.oper.an.sfc.128_039_swvl1.ll025sc.2019080100_2019083123.nc',\n",
    "    'SWVL2'   : '/network/rit/lab/atm419lab/DATA/ERA5_AUG2019_NETCDF/e5.oper.an.sfc.128_040_swvl2.ll025sc.2019080100_2019083123.nc',\n",
    "    'SWVL3'   : '/network/rit/lab/atm419lab/DATA/ERA5_AUG2019_NETCDF/e5.oper.an.sfc.128_041_swvl3.ll025sc.2019080100_2019083123.nc',\n",
    "    'SWVL4'   : '/network/rit/lab/atm419lab/DATA/ERA5_AUG2019_NETCDF/e5.oper.an.sfc.128_042_swvl4.ll025sc.2019080100_2019083123.nc',\n",
    "}\n",
    "# This table links variable names in the original file with their equivalent\n",
    "# names in WPS format\n",
    "grib_codes = pd.read_pickle('/network/rit/lab/atm419lab/SOFTWARE/ERA5_PREPROCESSOR/grib_codes.df.pkl')\n",
    "#grib_codes.head()\n",
    "\n",
    "# -----------------------------------------------------------------------------------------------\n",
    "# Editing below this line may not be necessary\n",
    "# -----------------------------------------------------------------------------------------------\n",
    "\n",
    "# add new rows for ERA5 variable names\n",
    "# the grib codes do not appear to matter at all.  The metgrid names are crucial.\n",
    "# we could pickle this, of course\n",
    "#                       ['Field description ',gribcode,levelcode,'metgrid name','units']\n",
    "grib_codes.loc['MSL'] = ['Sea-level Pressure', 2, 102,'PMSL','Pa']\n",
    "grib_codes.loc['SP'] = ['Surface Pressure', 1, 1,'PSFC','Pa']\n",
    "grib_codes.loc['VAR_2T'] = ['Temperature at 2 m', 11, 105,'TT','K']\n",
    "grib_codes.loc['VAR_2D'] = ['Dewpoint Temperature at 2 m', 17, 105,'DPT','K']\n",
    "grib_codes.loc['VAR_2RH'] = ['Relative humidity at 2 m', 52, 105,'RH','%']\n",
    "grib_codes.loc['VAR_10U'] = ['U at 10 m', 33, 105,'UU','m s-1']\n",
    "grib_codes.loc['VAR_10V'] = ['V at 10 m', 34, 105,'VV','m s-1']\n",
    "grib_codes.loc['STL1'] = ['T of 0-7 cm ground layer', 139, 112,'ST000007','K']\n",
    "grib_codes.loc['STL2'] = ['T of 7-28 cm ground layer', 170, 112,'ST007028','K']\n",
    "grib_codes.loc['STL3'] = ['T of 28-100 cm ground layer', 183, 112,'ST028100','K']\n",
    "grib_codes.loc['STL4'] = ['T of 100-289 cm ground layer', 236, 112,'ST100289','K']\n",
    "grib_codes.loc['SWVL1'] = ['Soil moisture of 0-7 cm ground layer', 39, 112,'SM000007','fraction']\n",
    "grib_codes.loc['SWVL2'] = ['Soil moisture of 7-28 cm ground layer', 40, 112,'SM007028','fraction']\n",
    "grib_codes.loc['SWVL3'] = ['Soil moisture of 28-100 cm ground layer', 41, 112,'SM028100','fraction']\n",
    "grib_codes.loc['SWVL4'] = ['Soil moisture of 100-289 cm ground layer', 42, 112,'SM100289','fraction']\n",
    "grib_codes.loc['SKT'] = ['Skin Temperature', 11, 1,'SKINTEMP','K'] #Vtable.ECMWF gribcode is 235\n",
    "grib_codes.loc['SSTK'] = ['Sea-Surface Temperature', 34, 1,'SST','K'] \n",
    "# Z is geopotential, and I am converting it to geopotential height\n",
    "grib_codes.loc['Z'] = ['Geopotential height', 7, 100,'GHT','m'] \n",
    "grib_codes.loc['R'] = ['Relative Humidity',52,100,'RH','%'] #Vtable.ECMWF gribcode is 157\n",
    "grib_codes.loc['SOILHGT'] = ['Terrain field of source analysis', 7, 1,'SOILHGT','m'] \n",
    "\n",
    "#print(\" ------- \")\n",
    "#print(grib_codes)\n",
    "print(\" ready...\")"
   ]
  },
  {
   "cell_type": "code",
   "execution_count": 3,
   "id": "8314677e-5512-4c75-9c99-4caeb7269623",
   "metadata": {},
   "outputs": [
    {
     "name": "stdout",
     "output_type": "stream",
     "text": [
      " ready...\n"
     ]
    }
   ],
   "source": [
    "\n",
    "# Start by supplying the variable_paths and the grib_codes table\n",
    "params = {\n",
    "    'variable_paths' : variable_paths,\n",
    "    'variable_table' : grib_codes,\n",
    "    \n",
    "    # Subset to this time range (start, end)\n",
    "    'time_range' : (datetime(2019,8,26,12), datetime(2019,8,27,0)),\n",
    "    \n",
    "    # We want output every this many hours.  This particular\n",
    "    # string format is what xarray looks for\n",
    "    'time_freq' : '3h',\n",
    "    \n",
    "    # Set the vertical coordinate type of the raw dataset.\n",
    "    # Options are 'pressure', with limited support for 'hybrid-p' and 'hybrid-z'\n",
    "    'vcoord_type' : 'pressure',\n",
    "    \n",
    "    # These are the names of the vertical coordinates in the datasets\n",
    "    # For upper air pressure levels:\n",
    "    'vcoord' : 'level',\n",
    "    \n",
    "    # And for subsurface soil levels\n",
    "    'soilcoord' : 'depth',\n",
    "    \n",
    "    # Optional...set a geographical subset bounds in lat/lon\n",
    "    # Lon in 0-365 space\n",
    "    # If not provided, will return the entire extend of the netCDF file dataset\n",
    "    #'geog_bounds' : {'south': 22, 'north': 52, 'west': 360-135, 'east': 360-55}, # DOES NOT WORK\n",
    "\n",
    "}\n",
    "print(\" ready...\")"
   ]
  },
  {
   "cell_type": "code",
   "execution_count": 4,
   "id": "9c3e072d-e24c-4275-9843-fa7c3a0c98c1",
   "metadata": {},
   "outputs": [
    {
     "name": "stderr",
     "output_type": "stream",
     "text": [
      "2024-12-05 20:31:01,887 - WRFInputFormatter - INFO - THESE ARE GEOG BOUNDS: None\n",
      "2024-12-05 20:31:01,887 - WRFInputFormatter - INFO - Building domain structure from pressure field\n",
      "2024-12-05 20:31:01,888 - WRFInputFormatter - INFO - Loading and subsetting T\n",
      "2024-12-05 20:31:01,888 - WRFInputFormatter - INFO - Loading variable T from: /network/rit/lab/atm419lab/DATA/ERA5_AUG2019_NETCDF/era5_t.nc\n",
      "2024-12-05 20:31:04,698 - WRFInputFormatter - INFO - Resampling in time to requested frequency\n",
      "2024-12-05 20:31:25,661 - WRFInputFormatter - WARNING - Suspect we have hPa...converting to Pa\n",
      "2024-12-05 20:31:26,815 - WRFInputFormatter - INFO - Done with pressure\n",
      "2024-12-05 20:31:26,816 - WRFInputFormatter - INFO - GEOG BOUNDS REQD: None\n",
      "2024-12-05 20:31:26,816 - WRFInputFormatter - INFO - ACTUAL LATS: -90.0 -- 90.0\n",
      "2024-12-05 20:31:26,816 - WRFInputFormatter - INFO - ACTUAL LONS: 0.0 -- 359.75\n",
      "2024-12-05 20:31:26,817 - WRFInputFormatter - INFO - Done with initialization\n",
      "2024-12-05 20:31:26,998 - WRFInputFormatter - INFO - Loading and subsetting SOILHGT\n",
      "2024-12-05 20:31:26,999 - WRFInputFormatter - INFO - Loading variable SOILHGT from: /network/rit/lab/atm419lab/DATA/ERA5/era5_SOILHGT.nc\n",
      "2024-12-05 20:31:27,054 - WRFInputFormatter - INFO - Assuming this is a static field\n",
      "2024-12-05 20:31:27,409 - WRFInputFormatter - INFO - Duplicating static field for all times\n",
      "2024-12-05 20:31:27,507 - WRFInputFormatter - INFO - Writing SOILHGT to WPS files\n",
      "2024-12-05 20:31:27,510 - WRFInputFormatter - INFO -    2019-08-26 12:00:00\n",
      "2024-12-05 20:31:27,662 - WRFInputFormatter - INFO -    2019-08-26 15:00:00\n"
     ]
    },
    {
     "name": "stdout",
     "output_type": "stream",
     "text": [
      " *** RGF single level variable SOILHGT\n",
      " *** RGF single level variable SOILHGT\n"
     ]
    },
    {
     "name": "stderr",
     "output_type": "stream",
     "text": [
      "2024-12-05 20:31:27,813 - WRFInputFormatter - INFO -    2019-08-26 18:00:00\n",
      "2024-12-05 20:31:27,966 - WRFInputFormatter - INFO -    2019-08-26 21:00:00\n"
     ]
    },
    {
     "name": "stdout",
     "output_type": "stream",
     "text": [
      " *** RGF single level variable SOILHGT\n",
      " *** RGF single level variable SOILHGT\n"
     ]
    },
    {
     "name": "stderr",
     "output_type": "stream",
     "text": [
      "2024-12-05 20:31:28,115 - WRFInputFormatter - INFO -    2019-08-27 00:00:00\n",
      "2024-12-05 20:31:28,264 - WRFInputFormatter - INFO - Loading and subsetting MSL\n",
      "2024-12-05 20:31:28,264 - WRFInputFormatter - INFO - Loading variable MSL from: /network/rit/lab/atm419lab/DATA/ERA5_AUG2019_NETCDF/e5.oper.an.sfc.128_151_msl.ll025sc.2019080100_2019083123.nc\n"
     ]
    },
    {
     "name": "stdout",
     "output_type": "stream",
     "text": [
      " *** RGF single level variable SOILHGT\n"
     ]
    },
    {
     "name": "stderr",
     "output_type": "stream",
     "text": [
      "2024-12-05 20:31:28,776 - WRFInputFormatter - INFO - Resampling in time to requested frequency\n",
      "2024-12-05 20:31:30,520 - WRFInputFormatter - INFO - Writing MSL to WPS files\n",
      "2024-12-05 20:31:30,523 - WRFInputFormatter - INFO -    2019-08-26 12:00:00\n",
      "2024-12-05 20:31:30,677 - WRFInputFormatter - INFO -    2019-08-26 15:00:00\n"
     ]
    },
    {
     "name": "stdout",
     "output_type": "stream",
     "text": [
      " *** RGF single level variable PMSL\n",
      " *** RGF single level variable PMSL\n"
     ]
    },
    {
     "name": "stderr",
     "output_type": "stream",
     "text": [
      "2024-12-05 20:31:30,831 - WRFInputFormatter - INFO -    2019-08-26 18:00:00\n",
      "2024-12-05 20:31:30,985 - WRFInputFormatter - INFO -    2019-08-26 21:00:00\n"
     ]
    },
    {
     "name": "stdout",
     "output_type": "stream",
     "text": [
      " *** RGF single level variable PMSL\n",
      " *** RGF single level variable PMSL\n"
     ]
    },
    {
     "name": "stderr",
     "output_type": "stream",
     "text": [
      "2024-12-05 20:31:31,136 - WRFInputFormatter - INFO -    2019-08-27 00:00:00\n",
      "2024-12-05 20:31:31,284 - WRFInputFormatter - INFO - Loading and subsetting SP\n",
      "2024-12-05 20:31:31,285 - WRFInputFormatter - INFO - Loading variable SP from: /network/rit/lab/atm419lab/DATA/ERA5_AUG2019_NETCDF/e5.oper.an.sfc.128_134_sp.ll025sc.2019080100_2019083123.nc\n"
     ]
    },
    {
     "name": "stdout",
     "output_type": "stream",
     "text": [
      " *** RGF single level variable PMSL\n"
     ]
    },
    {
     "name": "stderr",
     "output_type": "stream",
     "text": [
      "2024-12-05 20:31:31,875 - WRFInputFormatter - INFO - Resampling in time to requested frequency\n",
      "2024-12-05 20:31:33,958 - WRFInputFormatter - INFO - Writing SP to WPS files\n",
      "2024-12-05 20:31:33,961 - WRFInputFormatter - INFO -    2019-08-26 12:00:00\n",
      "2024-12-05 20:31:34,113 - WRFInputFormatter - INFO -    2019-08-26 15:00:00\n"
     ]
    },
    {
     "name": "stdout",
     "output_type": "stream",
     "text": [
      " *** RGF single level variable PSFC\n",
      " *** RGF single level variable PSFC\n"
     ]
    },
    {
     "name": "stderr",
     "output_type": "stream",
     "text": [
      "2024-12-05 20:31:34,264 - WRFInputFormatter - INFO -    2019-08-26 18:00:00\n",
      "2024-12-05 20:31:34,416 - WRFInputFormatter - INFO -    2019-08-26 21:00:00\n"
     ]
    },
    {
     "name": "stdout",
     "output_type": "stream",
     "text": [
      " *** RGF single level variable PSFC\n",
      " *** RGF single level variable PSFC\n"
     ]
    },
    {
     "name": "stderr",
     "output_type": "stream",
     "text": [
      "2024-12-05 20:31:34,566 - WRFInputFormatter - INFO -    2019-08-27 00:00:00\n",
      "2024-12-05 20:31:34,731 - WRFInputFormatter - INFO - Loading and subsetting VAR_2T\n",
      "2024-12-05 20:31:34,731 - WRFInputFormatter - INFO - Loading variable VAR_2T from: /network/rit/lab/atm419lab/DATA/ERA5_AUG2019_NETCDF/e5.oper.an.sfc.128_167_2t.ll025sc.2019080100_2019083123.nc\n"
     ]
    },
    {
     "name": "stdout",
     "output_type": "stream",
     "text": [
      " *** RGF single level variable PSFC\n"
     ]
    },
    {
     "name": "stderr",
     "output_type": "stream",
     "text": [
      "2024-12-05 20:31:35,202 - WRFInputFormatter - INFO - Resampling in time to requested frequency\n",
      "2024-12-05 20:31:37,241 - WRFInputFormatter - INFO - Writing VAR_2T to WPS files\n",
      "2024-12-05 20:31:37,244 - WRFInputFormatter - INFO -    2019-08-26 12:00:00\n",
      "2024-12-05 20:31:37,393 - WRFInputFormatter - INFO -    2019-08-26 15:00:00\n"
     ]
    },
    {
     "name": "stdout",
     "output_type": "stream",
     "text": [
      " RGF *** we have 2m T or Td or RH or 10 m wind\n",
      " RGF *** we have 2m T or Td or RH or 10 m wind\n"
     ]
    },
    {
     "name": "stderr",
     "output_type": "stream",
     "text": [
      "2024-12-05 20:31:37,545 - WRFInputFormatter - INFO -    2019-08-26 18:00:00\n",
      "2024-12-05 20:31:37,716 - WRFInputFormatter - INFO -    2019-08-26 21:00:00\n"
     ]
    },
    {
     "name": "stdout",
     "output_type": "stream",
     "text": [
      " RGF *** we have 2m T or Td or RH or 10 m wind\n",
      " RGF *** we have 2m T or Td or RH or 10 m wind\n"
     ]
    },
    {
     "name": "stderr",
     "output_type": "stream",
     "text": [
      "2024-12-05 20:31:37,865 - WRFInputFormatter - INFO -    2019-08-27 00:00:00\n",
      "2024-12-05 20:31:38,013 - WRFInputFormatter - INFO - Loading and subsetting SSTK\n",
      "2024-12-05 20:31:38,014 - WRFInputFormatter - INFO - Loading variable SSTK from: /network/rit/lab/atm419lab/DATA/ERA5_AUG2019_NETCDF/e5.oper.an.sfc.128_034_sstk.ll025sc.2019080100_2019083123.nc\n"
     ]
    },
    {
     "name": "stdout",
     "output_type": "stream",
     "text": [
      " RGF *** we have 2m T or Td or RH or 10 m wind\n"
     ]
    },
    {
     "name": "stderr",
     "output_type": "stream",
     "text": [
      "2024-12-05 20:31:38,370 - WRFInputFormatter - INFO - Resampling in time to requested frequency\n",
      "2024-12-05 20:31:40,063 - WRFInputFormatter - INFO - Writing SSTK to WPS files\n",
      "2024-12-05 20:31:40,065 - WRFInputFormatter - INFO -    2019-08-26 12:00:00\n",
      "2024-12-05 20:31:40,213 - WRFInputFormatter - INFO -    2019-08-26 15:00:00\n"
     ]
    },
    {
     "name": "stdout",
     "output_type": "stream",
     "text": [
      " *** RGF single level variable SST\n",
      " *** RGF single level variable SST\n"
     ]
    },
    {
     "name": "stderr",
     "output_type": "stream",
     "text": [
      "2024-12-05 20:31:40,363 - WRFInputFormatter - INFO -    2019-08-26 18:00:00\n",
      "2024-12-05 20:31:40,511 - WRFInputFormatter - INFO -    2019-08-26 21:00:00\n"
     ]
    },
    {
     "name": "stdout",
     "output_type": "stream",
     "text": [
      " *** RGF single level variable SST\n",
      " *** RGF single level variable SST\n"
     ]
    },
    {
     "name": "stderr",
     "output_type": "stream",
     "text": [
      "2024-12-05 20:31:40,662 - WRFInputFormatter - INFO -    2019-08-27 00:00:00\n",
      "2024-12-05 20:31:40,810 - WRFInputFormatter - INFO - Loading and subsetting SKT\n",
      "2024-12-05 20:31:40,810 - WRFInputFormatter - INFO - Loading variable SKT from: /network/rit/lab/atm419lab/DATA/ERA5_AUG2019_NETCDF/e5.oper.an.sfc.128_235_skt.ll025sc.2019080100_2019083123.nc\n"
     ]
    },
    {
     "name": "stdout",
     "output_type": "stream",
     "text": [
      " *** RGF single level variable SST\n"
     ]
    },
    {
     "name": "stderr",
     "output_type": "stream",
     "text": [
      "2024-12-05 20:31:41,246 - WRFInputFormatter - INFO - Resampling in time to requested frequency\n",
      "2024-12-05 20:31:43,762 - WRFInputFormatter - INFO - Writing SKT to WPS files\n",
      "2024-12-05 20:31:43,764 - WRFInputFormatter - INFO -    2019-08-26 12:00:00\n",
      "2024-12-05 20:31:43,917 - WRFInputFormatter - INFO -    2019-08-26 15:00:00\n"
     ]
    },
    {
     "name": "stdout",
     "output_type": "stream",
     "text": [
      " *** RGF single level variable SKINTEMP\n",
      " *** RGF single level variable SKINTEMP\n"
     ]
    },
    {
     "name": "stderr",
     "output_type": "stream",
     "text": [
      "2024-12-05 20:31:44,077 - WRFInputFormatter - INFO -    2019-08-26 18:00:00\n",
      "2024-12-05 20:31:44,229 - WRFInputFormatter - INFO -    2019-08-26 21:00:00\n"
     ]
    },
    {
     "name": "stdout",
     "output_type": "stream",
     "text": [
      " *** RGF single level variable SKINTEMP\n",
      " *** RGF single level variable SKINTEMP\n"
     ]
    },
    {
     "name": "stderr",
     "output_type": "stream",
     "text": [
      "2024-12-05 20:31:44,382 - WRFInputFormatter - INFO -    2019-08-27 00:00:00\n",
      "2024-12-05 20:31:44,536 - WRFInputFormatter - INFO - Loading and subsetting VAR_10U\n",
      "2024-12-05 20:31:44,536 - WRFInputFormatter - INFO - Loading variable VAR_10U from: /network/rit/lab/atm419lab/DATA/ERA5_AUG2019_NETCDF/e5.oper.an.sfc.128_165_10u.ll025sc.2019080100_2019083123.nc\n"
     ]
    },
    {
     "name": "stdout",
     "output_type": "stream",
     "text": [
      " *** RGF single level variable SKINTEMP\n"
     ]
    },
    {
     "name": "stderr",
     "output_type": "stream",
     "text": [
      "2024-12-05 20:31:45,068 - WRFInputFormatter - INFO - Resampling in time to requested frequency\n",
      "2024-12-05 20:31:47,766 - WRFInputFormatter - INFO - Writing VAR_10U to WPS files\n",
      "2024-12-05 20:31:47,768 - WRFInputFormatter - INFO -    2019-08-26 12:00:00\n",
      "2024-12-05 20:31:47,919 - WRFInputFormatter - INFO -    2019-08-26 15:00:00\n"
     ]
    },
    {
     "name": "stdout",
     "output_type": "stream",
     "text": [
      " RGF *** we have 2m T or Td or RH or 10 m wind\n",
      " RGF *** we have 2m T or Td or RH or 10 m wind\n"
     ]
    },
    {
     "name": "stderr",
     "output_type": "stream",
     "text": [
      "2024-12-05 20:31:48,073 - WRFInputFormatter - INFO -    2019-08-26 18:00:00\n",
      "2024-12-05 20:31:48,225 - WRFInputFormatter - INFO -    2019-08-26 21:00:00\n"
     ]
    },
    {
     "name": "stdout",
     "output_type": "stream",
     "text": [
      " RGF *** we have 2m T or Td or RH or 10 m wind\n",
      " RGF *** we have 2m T or Td or RH or 10 m wind\n"
     ]
    },
    {
     "name": "stderr",
     "output_type": "stream",
     "text": [
      "2024-12-05 20:31:48,377 - WRFInputFormatter - INFO -    2019-08-27 00:00:00\n",
      "2024-12-05 20:31:48,530 - WRFInputFormatter - INFO - Loading and subsetting VAR_10V\n",
      "2024-12-05 20:31:48,530 - WRFInputFormatter - INFO - Loading variable VAR_10V from: /network/rit/lab/atm419lab/DATA/ERA5_AUG2019_NETCDF/e5.oper.an.sfc.128_166_10v.ll025sc.2019080100_2019083123.nc\n"
     ]
    },
    {
     "name": "stdout",
     "output_type": "stream",
     "text": [
      " RGF *** we have 2m T or Td or RH or 10 m wind\n"
     ]
    },
    {
     "name": "stderr",
     "output_type": "stream",
     "text": [
      "2024-12-05 20:31:49,137 - WRFInputFormatter - INFO - Resampling in time to requested frequency\n",
      "2024-12-05 20:31:51,405 - WRFInputFormatter - INFO - Writing VAR_10V to WPS files\n",
      "2024-12-05 20:31:51,407 - WRFInputFormatter - INFO -    2019-08-26 12:00:00\n",
      "2024-12-05 20:31:51,559 - WRFInputFormatter - INFO -    2019-08-26 15:00:00\n"
     ]
    },
    {
     "name": "stdout",
     "output_type": "stream",
     "text": [
      " RGF *** we have 2m T or Td or RH or 10 m wind\n",
      " RGF *** we have 2m T or Td or RH or 10 m wind\n"
     ]
    },
    {
     "name": "stderr",
     "output_type": "stream",
     "text": [
      "2024-12-05 20:31:51,726 - WRFInputFormatter - INFO -    2019-08-26 18:00:00\n",
      "2024-12-05 20:31:51,880 - WRFInputFormatter - INFO -    2019-08-26 21:00:00\n"
     ]
    },
    {
     "name": "stdout",
     "output_type": "stream",
     "text": [
      " RGF *** we have 2m T or Td or RH or 10 m wind\n",
      " RGF *** we have 2m T or Td or RH or 10 m wind\n"
     ]
    },
    {
     "name": "stderr",
     "output_type": "stream",
     "text": [
      "2024-12-05 20:31:52,030 - WRFInputFormatter - INFO -    2019-08-27 00:00:00\n",
      "2024-12-05 20:31:52,181 - WRFInputFormatter - INFO - Loading and subsetting VAR_2RH\n",
      "2024-12-05 20:31:52,181 - WRFInputFormatter - INFO - Loading variable VAR_2RH from: /network/rit/lab/atm419lab/DATA/ERA5_AUG2019_NETCDF/era5_rh2m_aug2019.nc\n"
     ]
    },
    {
     "name": "stdout",
     "output_type": "stream",
     "text": [
      " RGF *** we have 2m T or Td or RH or 10 m wind\n"
     ]
    },
    {
     "name": "stderr",
     "output_type": "stream",
     "text": [
      "2024-12-05 20:31:52,510 - WRFInputFormatter - INFO - Resampling in time to requested frequency\n",
      "2024-12-05 20:31:53,608 - WRFInputFormatter - INFO - Writing VAR_2RH to WPS files\n",
      "2024-12-05 20:31:53,610 - WRFInputFormatter - INFO -    2019-08-26 12:00:00\n",
      "2024-12-05 20:31:53,762 - WRFInputFormatter - INFO -    2019-08-26 15:00:00\n"
     ]
    },
    {
     "name": "stdout",
     "output_type": "stream",
     "text": [
      " RGF *** we have 2m T or Td or RH or 10 m wind\n",
      " RGF *** we have 2m T or Td or RH or 10 m wind\n"
     ]
    },
    {
     "name": "stderr",
     "output_type": "stream",
     "text": [
      "2024-12-05 20:31:53,911 - WRFInputFormatter - INFO -    2019-08-26 18:00:00\n",
      "2024-12-05 20:31:54,063 - WRFInputFormatter - INFO -    2019-08-26 21:00:00\n"
     ]
    },
    {
     "name": "stdout",
     "output_type": "stream",
     "text": [
      " RGF *** we have 2m T or Td or RH or 10 m wind\n",
      " RGF *** we have 2m T or Td or RH or 10 m wind\n"
     ]
    },
    {
     "name": "stderr",
     "output_type": "stream",
     "text": [
      "2024-12-05 20:31:54,214 - WRFInputFormatter - INFO -    2019-08-27 00:00:00\n",
      "2024-12-05 20:31:54,364 - WRFInputFormatter - INFO - Loading and subsetting T\n",
      "2024-12-05 20:31:54,364 - WRFInputFormatter - INFO - Loading variable T from: /network/rit/lab/atm419lab/DATA/ERA5_AUG2019_NETCDF/era5_t.nc\n"
     ]
    },
    {
     "name": "stdout",
     "output_type": "stream",
     "text": [
      " RGF *** we have 2m T or Td or RH or 10 m wind\n"
     ]
    },
    {
     "name": "stderr",
     "output_type": "stream",
     "text": [
      "2024-12-05 20:31:54,440 - WRFInputFormatter - INFO - Resampling in time to requested frequency\n",
      "2024-12-05 20:32:08,442 - WRFInputFormatter - INFO - Writing T to WPS files\n",
      "2024-12-05 20:32:08,445 - WRFInputFormatter - INFO -    2019-08-26 12:00:00\n",
      "2024-12-05 20:32:13,940 - WRFInputFormatter - INFO -    2019-08-26 15:00:00\n",
      "2024-12-05 20:32:19,627 - WRFInputFormatter - INFO -    2019-08-26 18:00:00\n",
      "2024-12-05 20:32:25,386 - WRFInputFormatter - INFO -    2019-08-26 21:00:00\n",
      "2024-12-05 20:32:31,145 - WRFInputFormatter - INFO -    2019-08-27 00:00:00\n",
      "2024-12-05 20:32:36,676 - WRFInputFormatter - INFO - Loading and subsetting R\n",
      "2024-12-05 20:32:36,677 - WRFInputFormatter - INFO - Loading variable R from: /network/rit/lab/atm419lab/DATA/ERA5_AUG2019_NETCDF/era5_r.nc\n",
      "2024-12-05 20:32:37,326 - WRFInputFormatter - INFO - Resampling in time to requested frequency\n",
      "2024-12-05 20:33:00,101 - WRFInputFormatter - INFO - Writing R to WPS files\n",
      "2024-12-05 20:33:00,104 - WRFInputFormatter - INFO -    2019-08-26 12:00:00\n",
      "2024-12-05 20:33:05,525 - WRFInputFormatter - INFO -    2019-08-26 15:00:00\n",
      "2024-12-05 20:33:11,094 - WRFInputFormatter - INFO -    2019-08-26 18:00:00\n",
      "2024-12-05 20:33:16,538 - WRFInputFormatter - INFO -    2019-08-26 21:00:00\n",
      "2024-12-05 20:33:22,224 - WRFInputFormatter - INFO -    2019-08-27 00:00:00\n",
      "2024-12-05 20:33:27,815 - WRFInputFormatter - INFO - Loading and subsetting U\n",
      "2024-12-05 20:33:27,815 - WRFInputFormatter - INFO - Loading variable U from: /network/rit/lab/atm419lab/DATA/ERA5_AUG2019_NETCDF/era5_u.nc\n",
      "2024-12-05 20:33:28,409 - WRFInputFormatter - INFO - Resampling in time to requested frequency\n",
      "2024-12-05 20:33:54,641 - WRFInputFormatter - INFO - Writing U to WPS files\n",
      "2024-12-05 20:33:54,644 - WRFInputFormatter - INFO -    2019-08-26 12:00:00\n",
      "2024-12-05 20:34:00,118 - WRFInputFormatter - INFO -    2019-08-26 15:00:00\n",
      "2024-12-05 20:34:05,556 - WRFInputFormatter - INFO -    2019-08-26 18:00:00\n",
      "2024-12-05 20:34:11,085 - WRFInputFormatter - INFO -    2019-08-26 21:00:00\n",
      "2024-12-05 20:34:16,568 - WRFInputFormatter - INFO -    2019-08-27 00:00:00\n",
      "2024-12-05 20:34:22,026 - WRFInputFormatter - INFO - Loading and subsetting V\n",
      "2024-12-05 20:34:22,026 - WRFInputFormatter - INFO - Loading variable V from: /network/rit/lab/atm419lab/DATA/ERA5_AUG2019_NETCDF/era5_v.nc\n",
      "2024-12-05 20:34:22,472 - WRFInputFormatter - INFO - Resampling in time to requested frequency\n",
      "2024-12-05 20:34:51,286 - WRFInputFormatter - INFO - Writing V to WPS files\n",
      "2024-12-05 20:34:51,290 - WRFInputFormatter - INFO -    2019-08-26 12:00:00\n",
      "2024-12-05 20:34:56,787 - WRFInputFormatter - INFO -    2019-08-26 15:00:00\n",
      "2024-12-05 20:35:02,364 - WRFInputFormatter - INFO -    2019-08-26 18:00:00\n",
      "2024-12-05 20:35:07,937 - WRFInputFormatter - INFO -    2019-08-26 21:00:00\n",
      "2024-12-05 20:35:13,464 - WRFInputFormatter - INFO -    2019-08-27 00:00:00\n",
      "2024-12-05 20:35:18,978 - WRFInputFormatter - INFO - Loading and subsetting Z\n",
      "2024-12-05 20:35:18,978 - WRFInputFormatter - INFO - Loading variable Z from: /network/rit/lab/atm419lab/DATA/ERA5_AUG2019_NETCDF/era5_z.nc\n",
      "2024-12-05 20:35:19,415 - WRFInputFormatter - INFO - Resampling in time to requested frequency\n",
      "2024-12-05 20:35:39,503 - WRFInputFormatter - INFO - Writing Z to WPS files\n",
      "2024-12-05 20:35:39,505 - WRFInputFormatter - INFO -    2019-08-26 12:00:00\n"
     ]
    },
    {
     "name": "stdout",
     "output_type": "stream",
     "text": [
      " RGF converted geopotential to geopotential height (m)\n"
     ]
    },
    {
     "name": "stderr",
     "output_type": "stream",
     "text": [
      "2024-12-05 20:35:45,253 - WRFInputFormatter - INFO -    2019-08-26 15:00:00\n",
      "2024-12-05 20:35:50,996 - WRFInputFormatter - INFO -    2019-08-26 18:00:00\n",
      "2024-12-05 20:35:56,559 - WRFInputFormatter - INFO -    2019-08-26 21:00:00\n",
      "2024-12-05 20:36:02,089 - WRFInputFormatter - INFO -    2019-08-27 00:00:00\n",
      "2024-12-05 20:36:07,601 - WRFInputFormatter - INFO - Loading and subsetting STL1\n",
      "2024-12-05 20:36:07,602 - WRFInputFormatter - INFO - Loading variable STL1 from: /network/rit/lab/atm419lab/DATA/ERA5_AUG2019_NETCDF/e5.oper.an.sfc.128_139_stl1.ll025sc.2019080100_2019083123.nc\n",
      "2024-12-05 20:36:08,185 - WRFInputFormatter - INFO - Resampling in time to requested frequency\n",
      "2024-12-05 20:36:10,775 - WRFInputFormatter - INFO - Writing STL1 to WPS files\n",
      "2024-12-05 20:36:10,778 - WRFInputFormatter - INFO -    2019-08-26 12:00:00\n",
      "2024-12-05 20:36:10,929 - WRFInputFormatter - INFO -    2019-08-26 15:00:00\n"
     ]
    },
    {
     "name": "stdout",
     "output_type": "stream",
     "text": [
      " *** RGF single level variable ST000007\n",
      " *** RGF single level variable ST000007\n"
     ]
    },
    {
     "name": "stderr",
     "output_type": "stream",
     "text": [
      "2024-12-05 20:36:11,085 - WRFInputFormatter - INFO -    2019-08-26 18:00:00\n",
      "2024-12-05 20:36:11,237 - WRFInputFormatter - INFO -    2019-08-26 21:00:00\n"
     ]
    },
    {
     "name": "stdout",
     "output_type": "stream",
     "text": [
      " *** RGF single level variable ST000007\n",
      " *** RGF single level variable ST000007\n"
     ]
    },
    {
     "name": "stderr",
     "output_type": "stream",
     "text": [
      "2024-12-05 20:36:11,388 - WRFInputFormatter - INFO -    2019-08-27 00:00:00\n",
      "2024-12-05 20:36:11,538 - WRFInputFormatter - INFO - Loading and subsetting STL2\n",
      "2024-12-05 20:36:11,538 - WRFInputFormatter - INFO - Loading variable STL2 from: /network/rit/lab/atm419lab/DATA/ERA5_AUG2019_NETCDF/e5.oper.an.sfc.128_170_stl2.ll025sc.2019080100_2019083123.nc\n"
     ]
    },
    {
     "name": "stdout",
     "output_type": "stream",
     "text": [
      " *** RGF single level variable ST000007\n"
     ]
    },
    {
     "name": "stderr",
     "output_type": "stream",
     "text": [
      "2024-12-05 20:36:12,293 - WRFInputFormatter - INFO - Resampling in time to requested frequency\n",
      "2024-12-05 20:36:14,417 - WRFInputFormatter - INFO - Writing STL2 to WPS files\n",
      "2024-12-05 20:36:14,420 - WRFInputFormatter - INFO -    2019-08-26 12:00:00\n",
      "2024-12-05 20:36:14,574 - WRFInputFormatter - INFO -    2019-08-26 15:00:00\n"
     ]
    },
    {
     "name": "stdout",
     "output_type": "stream",
     "text": [
      " *** RGF single level variable ST007028\n",
      " *** RGF single level variable ST007028\n"
     ]
    },
    {
     "name": "stderr",
     "output_type": "stream",
     "text": [
      "2024-12-05 20:36:14,727 - WRFInputFormatter - INFO -    2019-08-26 18:00:00\n",
      "2024-12-05 20:36:14,879 - WRFInputFormatter - INFO -    2019-08-26 21:00:00\n"
     ]
    },
    {
     "name": "stdout",
     "output_type": "stream",
     "text": [
      " *** RGF single level variable ST007028\n",
      " *** RGF single level variable ST007028\n"
     ]
    },
    {
     "name": "stderr",
     "output_type": "stream",
     "text": [
      "2024-12-05 20:36:15,034 - WRFInputFormatter - INFO -    2019-08-27 00:00:00\n",
      "2024-12-05 20:36:15,180 - WRFInputFormatter - INFO - Loading and subsetting STL3\n",
      "2024-12-05 20:36:15,181 - WRFInputFormatter - INFO - Loading variable STL3 from: /network/rit/lab/atm419lab/DATA/ERA5_AUG2019_NETCDF/e5.oper.an.sfc.128_183_stl3.ll025sc.2019080100_2019083123.nc\n"
     ]
    },
    {
     "name": "stdout",
     "output_type": "stream",
     "text": [
      " *** RGF single level variable ST007028\n"
     ]
    },
    {
     "name": "stderr",
     "output_type": "stream",
     "text": [
      "2024-12-05 20:36:15,486 - WRFInputFormatter - INFO - Resampling in time to requested frequency\n",
      "2024-12-05 20:36:17,660 - WRFInputFormatter - INFO - Writing STL3 to WPS files\n",
      "2024-12-05 20:36:17,663 - WRFInputFormatter - INFO -    2019-08-26 12:00:00\n",
      "2024-12-05 20:36:17,810 - WRFInputFormatter - INFO -    2019-08-26 15:00:00\n"
     ]
    },
    {
     "name": "stdout",
     "output_type": "stream",
     "text": [
      " *** RGF single level variable ST028100\n",
      " *** RGF single level variable ST028100\n"
     ]
    },
    {
     "name": "stderr",
     "output_type": "stream",
     "text": [
      "2024-12-05 20:36:17,966 - WRFInputFormatter - INFO -    2019-08-26 18:00:00\n",
      "2024-12-05 20:36:18,116 - WRFInputFormatter - INFO -    2019-08-26 21:00:00\n"
     ]
    },
    {
     "name": "stdout",
     "output_type": "stream",
     "text": [
      " *** RGF single level variable ST028100\n",
      " *** RGF single level variable ST028100\n"
     ]
    },
    {
     "name": "stderr",
     "output_type": "stream",
     "text": [
      "2024-12-05 20:36:18,267 - WRFInputFormatter - INFO -    2019-08-27 00:00:00\n",
      "2024-12-05 20:36:18,420 - WRFInputFormatter - INFO - Loading and subsetting STL4\n",
      "2024-12-05 20:36:18,421 - WRFInputFormatter - INFO - Loading variable STL4 from: /network/rit/lab/atm419lab/DATA/ERA5_AUG2019_NETCDF/e5.oper.an.sfc.128_236_stl4.ll025sc.2019080100_2019083123.nc\n"
     ]
    },
    {
     "name": "stdout",
     "output_type": "stream",
     "text": [
      " *** RGF single level variable ST028100\n"
     ]
    },
    {
     "name": "stderr",
     "output_type": "stream",
     "text": [
      "2024-12-05 20:36:18,889 - WRFInputFormatter - INFO - Resampling in time to requested frequency\n",
      "2024-12-05 20:36:21,109 - WRFInputFormatter - INFO - Writing STL4 to WPS files\n",
      "2024-12-05 20:36:21,112 - WRFInputFormatter - INFO -    2019-08-26 12:00:00\n",
      "2024-12-05 20:36:21,263 - WRFInputFormatter - INFO -    2019-08-26 15:00:00\n"
     ]
    },
    {
     "name": "stdout",
     "output_type": "stream",
     "text": [
      " *** RGF single level variable ST100289\n",
      " *** RGF single level variable ST100289\n"
     ]
    },
    {
     "name": "stderr",
     "output_type": "stream",
     "text": [
      "2024-12-05 20:36:21,419 - WRFInputFormatter - INFO -    2019-08-26 18:00:00\n",
      "2024-12-05 20:36:21,567 - WRFInputFormatter - INFO -    2019-08-26 21:00:00\n"
     ]
    },
    {
     "name": "stdout",
     "output_type": "stream",
     "text": [
      " *** RGF single level variable ST100289\n",
      " *** RGF single level variable ST100289\n"
     ]
    },
    {
     "name": "stderr",
     "output_type": "stream",
     "text": [
      "2024-12-05 20:36:21,722 - WRFInputFormatter - INFO -    2019-08-27 00:00:00\n",
      "2024-12-05 20:36:21,870 - WRFInputFormatter - INFO - Loading and subsetting SWVL1\n",
      "2024-12-05 20:36:21,870 - WRFInputFormatter - INFO - Loading variable SWVL1 from: /network/rit/lab/atm419lab/DATA/ERA5_AUG2019_NETCDF/e5.oper.an.sfc.128_039_swvl1.ll025sc.2019080100_2019083123.nc\n"
     ]
    },
    {
     "name": "stdout",
     "output_type": "stream",
     "text": [
      " *** RGF single level variable ST100289\n"
     ]
    },
    {
     "name": "stderr",
     "output_type": "stream",
     "text": [
      "2024-12-05 20:36:22,288 - WRFInputFormatter - INFO - Resampling in time to requested frequency\n",
      "2024-12-05 20:36:23,678 - WRFInputFormatter - INFO - Writing SWVL1 to WPS files\n",
      "2024-12-05 20:36:23,680 - WRFInputFormatter - INFO -    2019-08-26 12:00:00\n",
      "2024-12-05 20:36:23,831 - WRFInputFormatter - INFO -    2019-08-26 15:00:00\n"
     ]
    },
    {
     "name": "stdout",
     "output_type": "stream",
     "text": [
      " *** RGF single level variable SM000007\n",
      " *** RGF single level variable SM000007\n"
     ]
    },
    {
     "name": "stderr",
     "output_type": "stream",
     "text": [
      "2024-12-05 20:36:23,985 - WRFInputFormatter - INFO -    2019-08-26 18:00:00\n",
      "2024-12-05 20:36:24,133 - WRFInputFormatter - INFO -    2019-08-26 21:00:00\n"
     ]
    },
    {
     "name": "stdout",
     "output_type": "stream",
     "text": [
      " *** RGF single level variable SM000007\n",
      " *** RGF single level variable SM000007\n"
     ]
    },
    {
     "name": "stderr",
     "output_type": "stream",
     "text": [
      "2024-12-05 20:36:24,288 - WRFInputFormatter - INFO -    2019-08-27 00:00:00\n",
      "2024-12-05 20:36:24,435 - WRFInputFormatter - INFO - Loading and subsetting SWVL2\n",
      "2024-12-05 20:36:24,435 - WRFInputFormatter - INFO - Loading variable SWVL2 from: /network/rit/lab/atm419lab/DATA/ERA5_AUG2019_NETCDF/e5.oper.an.sfc.128_040_swvl2.ll025sc.2019080100_2019083123.nc\n"
     ]
    },
    {
     "name": "stdout",
     "output_type": "stream",
     "text": [
      " *** RGF single level variable SM000007\n"
     ]
    },
    {
     "name": "stderr",
     "output_type": "stream",
     "text": [
      "2024-12-05 20:36:24,725 - WRFInputFormatter - INFO - Resampling in time to requested frequency\n",
      "2024-12-05 20:36:26,287 - WRFInputFormatter - INFO - Writing SWVL2 to WPS files\n",
      "2024-12-05 20:36:26,289 - WRFInputFormatter - INFO -    2019-08-26 12:00:00\n",
      "2024-12-05 20:36:26,439 - WRFInputFormatter - INFO -    2019-08-26 15:00:00\n"
     ]
    },
    {
     "name": "stdout",
     "output_type": "stream",
     "text": [
      " *** RGF single level variable SM007028\n",
      " *** RGF single level variable SM007028\n"
     ]
    },
    {
     "name": "stderr",
     "output_type": "stream",
     "text": [
      "2024-12-05 20:36:26,595 - WRFInputFormatter - INFO -    2019-08-26 18:00:00\n",
      "2024-12-05 20:36:26,746 - WRFInputFormatter - INFO -    2019-08-26 21:00:00\n"
     ]
    },
    {
     "name": "stdout",
     "output_type": "stream",
     "text": [
      " *** RGF single level variable SM007028\n",
      " *** RGF single level variable SM007028\n"
     ]
    },
    {
     "name": "stderr",
     "output_type": "stream",
     "text": [
      "2024-12-05 20:36:26,901 - WRFInputFormatter - INFO -    2019-08-27 00:00:00\n",
      "2024-12-05 20:36:27,050 - WRFInputFormatter - INFO - Loading and subsetting SWVL3\n",
      "2024-12-05 20:36:27,050 - WRFInputFormatter - INFO - Loading variable SWVL3 from: /network/rit/lab/atm419lab/DATA/ERA5_AUG2019_NETCDF/e5.oper.an.sfc.128_041_swvl3.ll025sc.2019080100_2019083123.nc\n"
     ]
    },
    {
     "name": "stdout",
     "output_type": "stream",
     "text": [
      " *** RGF single level variable SM007028\n"
     ]
    },
    {
     "name": "stderr",
     "output_type": "stream",
     "text": [
      "2024-12-05 20:36:27,336 - WRFInputFormatter - INFO - Resampling in time to requested frequency\n",
      "2024-12-05 20:36:28,671 - WRFInputFormatter - INFO - Writing SWVL3 to WPS files\n",
      "2024-12-05 20:36:28,673 - WRFInputFormatter - INFO -    2019-08-26 12:00:00\n",
      "2024-12-05 20:36:28,823 - WRFInputFormatter - INFO -    2019-08-26 15:00:00\n"
     ]
    },
    {
     "name": "stdout",
     "output_type": "stream",
     "text": [
      " *** RGF single level variable SM028100\n",
      " *** RGF single level variable SM028100\n"
     ]
    },
    {
     "name": "stderr",
     "output_type": "stream",
     "text": [
      "2024-12-05 20:36:28,978 - WRFInputFormatter - INFO -    2019-08-26 18:00:00\n",
      "2024-12-05 20:36:29,129 - WRFInputFormatter - INFO -    2019-08-26 21:00:00\n"
     ]
    },
    {
     "name": "stdout",
     "output_type": "stream",
     "text": [
      " *** RGF single level variable SM028100\n",
      " *** RGF single level variable SM028100\n"
     ]
    },
    {
     "name": "stderr",
     "output_type": "stream",
     "text": [
      "2024-12-05 20:36:29,284 - WRFInputFormatter - INFO -    2019-08-27 00:00:00\n",
      "2024-12-05 20:36:29,433 - WRFInputFormatter - INFO - Loading and subsetting SWVL4\n",
      "2024-12-05 20:36:29,434 - WRFInputFormatter - INFO - Loading variable SWVL4 from: /network/rit/lab/atm419lab/DATA/ERA5_AUG2019_NETCDF/e5.oper.an.sfc.128_042_swvl4.ll025sc.2019080100_2019083123.nc\n"
     ]
    },
    {
     "name": "stdout",
     "output_type": "stream",
     "text": [
      " *** RGF single level variable SM028100\n"
     ]
    },
    {
     "name": "stderr",
     "output_type": "stream",
     "text": [
      "2024-12-05 20:36:29,934 - WRFInputFormatter - INFO - Resampling in time to requested frequency\n",
      "2024-12-05 20:36:31,251 - WRFInputFormatter - INFO - Writing SWVL4 to WPS files\n",
      "2024-12-05 20:36:31,254 - WRFInputFormatter - INFO -    2019-08-26 12:00:00\n",
      "2024-12-05 20:36:31,401 - WRFInputFormatter - INFO -    2019-08-26 15:00:00\n"
     ]
    },
    {
     "name": "stdout",
     "output_type": "stream",
     "text": [
      " *** RGF single level variable SM100289\n",
      " *** RGF single level variable SM100289\n"
     ]
    },
    {
     "name": "stderr",
     "output_type": "stream",
     "text": [
      "2024-12-05 20:36:31,554 - WRFInputFormatter - INFO -    2019-08-26 18:00:00\n",
      "2024-12-05 20:36:31,701 - WRFInputFormatter - INFO -    2019-08-26 21:00:00\n"
     ]
    },
    {
     "name": "stdout",
     "output_type": "stream",
     "text": [
      " *** RGF single level variable SM100289\n",
      " *** RGF single level variable SM100289\n"
     ]
    },
    {
     "name": "stderr",
     "output_type": "stream",
     "text": [
      "2024-12-05 20:36:31,854 - WRFInputFormatter - INFO -    2019-08-27 00:00:00\n"
     ]
    },
    {
     "name": "stdout",
     "output_type": "stream",
     "text": [
      " *** RGF single level variable SM100289\n",
      " done.\n"
     ]
    }
   ],
   "source": [
    "###############################################################################################\n",
    "# The magic happens here\n",
    "###############################################################################################\n",
    "\n",
    "wrfgen = WRFInputFormatter(**params)\n",
    "\n",
    "wrfgen.open_WPS_files()\n",
    "\n",
    "for var in list(variable_paths.keys()):\n",
    "    #print(\" RGF variable \",var)\n",
    "    varray = wrfgen.load_and_subset(var)\n",
    "    wrfgen.add_to_WPS(varray)\n",
    "    \n",
    "wrfgen.close_WPS_files()\n",
    "print(\" done.\")"
   ]
  },
  {
   "cell_type": "code",
   "execution_count": null,
   "id": "d86f6e51-b069-4f55-be81-2b4e536d9572",
   "metadata": {},
   "outputs": [],
   "source": []
  },
  {
   "cell_type": "code",
   "execution_count": null,
   "id": "e69a538c-0b40-451c-ad0b-b9a467f2ffd0",
   "metadata": {},
   "outputs": [],
   "source": []
  }
 ],
 "metadata": {
  "kernelspec": {
   "display_name": "daes_jan24",
   "language": "python",
   "name": "daes_jan24"
  },
  "language_info": {
   "codemirror_mode": {
    "name": "ipython",
    "version": 3
   },
   "file_extension": ".py",
   "mimetype": "text/x-python",
   "name": "python",
   "nbconvert_exporter": "python",
   "pygments_lexer": "ipython3",
   "version": "3.11.10"
  }
 },
 "nbformat": 4,
 "nbformat_minor": 5
}
