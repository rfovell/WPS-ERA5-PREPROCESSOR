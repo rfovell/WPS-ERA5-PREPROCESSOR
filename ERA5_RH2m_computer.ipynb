{
 "cells": [
  {
   "cell_type": "code",
   "execution_count": null,
   "id": "54393a9e-346e-4987-b7fd-cebb787c3e16",
   "metadata": {},
   "outputs": [],
   "source": [
    "###################################################################################################\n",
    "# ERA5_RH2m_computer.ipynb\n",
    "# ATM 419/563 Fall 2024\n",
    "# 5 December 2024 Robert Fovell (rfovell@albany.edu) \n",
    "#\n",
    "#\n",
    "# This script reads in ERA5 T2 and TD surface files for a given month, computes 2 m RH using MetPy,\n",
    "#  to prepare for running $LAB/SCRIPTS/WPS_ERA5_PREPROCESSOR.ipynb on NetCDF-format ERA5 files\n",
    "# \n",
    "# This notebook creates \"output_file.nc\"\n",
    "#\n",
    "# After this notebook finishes, the next two tasks (outside this notebook) are:\n",
    "# (1) change name of variable from VAR_2D to VAR_2RH: ncrename -v VAR_2D,VAR_2RH output_file.nc\n",
    "# (2) change name of output_file.nc if desired:       mv output_file.nc era5_rh2m_aug2019.nc\n",
    "\n",
    "# NOTE: ungrib.exe (in rrpr.F) computes 2m RH from T2 and TD using a different formula, so results\n",
    "#   will differ somewhat\n",
    "###################################################################################################\n",
    "\n",
    "import numpy as np \n",
    "import xarray as xr \n",
    "# MetPy\n",
    "from metpy.units import units\n",
    "from metpy.calc import relative_humidity_from_dewpoint\n",
    "\n",
    "print(\"ready...\")"
   ]
  },
  {
   "cell_type": "code",
   "execution_count": null,
   "id": "72cb0b60-72b6-4f47-a070-ac8dfdcd4aba",
   "metadata": {},
   "outputs": [],
   "source": [
    "# Our 2 m T and TD datasets\n",
    "sfct = xr.open_dataset('./e5.oper.an.sfc.128_167_2t.ll025sc.2019080100_2019083123.nc')\n",
    "sfctd = xr.open_dataset('./e5.oper.an.sfc.128_168_2d.ll025sc.2019080100_2019083123.nc')\n",
    "sfct\n"
   ]
  },
  {
   "cell_type": "code",
   "execution_count": null,
   "id": "89f9e3b1-5a19-4a8d-9a9a-f642fadc65dd",
   "metadata": {},
   "outputs": [],
   "source": [
    "# Extract our 2 m T and TD\n",
    "t2 = sfct['VAR_2T']\n",
    "td = sfctd['VAR_2D']\n",
    "\n",
    "print(\" ready...\")"
   ]
  },
  {
   "cell_type": "code",
   "execution_count": null,
   "id": "13e2133a-ab95-424d-92a0-efbc3d88222f",
   "metadata": {},
   "outputs": [],
   "source": [
    "# Compute 2 m RH using MetPy\n",
    "rh = relative_humidity_from_dewpoint(t2 * units.K, td * units.K)*100 # to percent\n",
    "rh"
   ]
  },
  {
   "cell_type": "code",
   "execution_count": null,
   "id": "d0688b14-358a-4b37-8573-a55b810d50d2",
   "metadata": {},
   "outputs": [],
   "source": [
    "# Write new 2m RH field to file\n",
    "ds_new=sfctd.assign(VAR_2D=rh)\n",
    "ds_new.to_netcdf('output_file.nc')\n",
    "\n",
    "print(\" ready...\")"
   ]
  },
  {
   "cell_type": "code",
   "execution_count": null,
   "id": "1c25ac67-d36b-4c19-9e1a-24b9db92c94e",
   "metadata": {},
   "outputs": [],
   "source": [
    "\n",
    "print(\"now change variable name in output_file.nc with ncrename and change name of output file\")\n",
    "# ncrename -v VAR_2D,VAR_2RH output_file.nc"
   ]
  },
  {
   "cell_type": "code",
   "execution_count": null,
   "id": "fb243a7e-897c-45c4-8c16-f9268d950ee0",
   "metadata": {},
   "outputs": [],
   "source": []
  }
 ],
 "metadata": {
  "kernelspec": {
   "display_name": "daes_jan24",
   "language": "python",
   "name": "daes_jan24"
  },
  "language_info": {
   "codemirror_mode": {
    "name": "ipython",
    "version": 3
   },
   "file_extension": ".py",
   "mimetype": "text/x-python",
   "name": "python",
   "nbconvert_exporter": "python",
   "pygments_lexer": "ipython3",
   "version": "3.11.10"
  }
 },
 "nbformat": 4,
 "nbformat_minor": 5
}
